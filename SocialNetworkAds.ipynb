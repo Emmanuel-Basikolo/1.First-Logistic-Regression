{
 "cells": [
  {
   "cell_type": "code",
   "execution_count": 1,
   "metadata": {},
   "outputs": [],
   "source": [
    "import numpy as np\n",
    "import pandas as pd\n",
    "from sklearn.model_selection import train_test_split\n",
    "from sklearn.preprocessing import OneHotEncoder"
   ]
  },
  {
   "cell_type": "code",
   "execution_count": 2,
   "metadata": {},
   "outputs": [],
   "source": [
    "def load_data():\n",
    "    df = pd.read_csv('Social_Network_Ads.csv')\n",
    "    #One hot encoding\n",
    "    encoder = OneHotEncoder(handle_unknown='ignore')\n",
    "    encoder_df = pd.DataFrame(encoder.fit_transform(df[['Gender']]).toarray())\n",
    "    purchased = df.Purchased\n",
    "    df. drop('User ID', axis=1, inplace=True)\n",
    "    df. drop('Gender', axis=1, inplace=True)\n",
    "    df. drop('Purchased', axis=1, inplace=True)\n",
    "    encoder_df.columns = ['Female', 'Male']\n",
    "    df = (df-df.mean())/df.std()\n",
    "\n",
    "    final_df = pd.merge(encoder_df, df, left_index=True, right_index=True)\n",
    "    final_df = pd.merge(final_df, purchased, left_index=True, right_index=True)\n",
    "    \n",
    "    return final_df\n",
    "\n",
    "\n",
    "training_data, testing_data = train_test_split(load_data(), test_size=0.05, random_state=25)\n",
    "x_train = training_data[['EstimatedSalary', 'Female', 'Male', 'Age']].to_numpy()\n",
    "y_train = training_data['Purchased'].to_numpy()\n",
    "x_test = testing_data[['EstimatedSalary', 'Female', 'Male', 'Age']].to_numpy()\n",
    "y_test = testing_data[['Purchased']].to_numpy()"
   ]
  },
  {
   "cell_type": "code",
   "execution_count": 3,
   "metadata": {},
   "outputs": [],
   "source": [
    "def sigmoid(z):\n",
    "    return 1 / (1 + np.exp(-z))"
   ]
  },
  {
   "cell_type": "code",
   "execution_count": 4,
   "metadata": {},
   "outputs": [],
   "source": [
    "def gradient(x, y, w, b):\n",
    "    m = x.shape[0]\n",
    "    dw = 0\n",
    "    db = 0\n",
    "    for i in range(m):\n",
    "        error = sigmoid(w @ x[i] + b) - y[i]\n",
    "        dw += x[i] * error\n",
    "        db += error\n",
    "    return {'db': 2*db/m, 'dw':2*dw/m}"
   ]
  },
  {
   "cell_type": "code",
   "execution_count": 5,
   "metadata": {},
   "outputs": [],
   "source": [
    "def gradient_descent(x, y, w, b, alpha, num_iter):\n",
    "    for i in range(num_iter):\n",
    "        grad = gradient(x, y, w, b)\n",
    "        w = w - alpha * grad['dw']\n",
    "        b = b - alpha * grad['db']\n",
    "    return {'b': b, 'w':w}"
   ]
  },
  {
   "cell_type": "code",
   "execution_count": 6,
   "metadata": {},
   "outputs": [
    {
     "name": "stdout",
     "output_type": "stream",
     "text": [
      "Weights:  [ 1.27614151 -0.62459574 -0.14640449  2.42967335] \n",
      "\n",
      "Bias -0.771000234908711\n"
     ]
    }
   ],
   "source": [
    "w = np.zeros((x_train.shape[1],))\n",
    "b = 0\n",
    "alpha = 0.1\n",
    "num_iter = 1000\n",
    "parameters = gradient_descent(x_train, y_train, w, b, alpha, num_iter)\n",
    "print(\"Weights: \", parameters['w'], '\\n\\nBias', parameters['b'])"
   ]
  },
  {
   "cell_type": "code",
   "execution_count": 7,
   "metadata": {},
   "outputs": [
    {
     "name": "stdout",
     "output_type": "stream",
     "text": [
      "Weights:  [[ 1.17368562 -0.56570103 -0.15347086  2.23227701]]\n",
      "Bias:  [-0.71917189]\n"
     ]
    }
   ],
   "source": [
    "from sklearn.linear_model import LogisticRegression \n",
    "\n",
    "model =  LogisticRegression(solver='liblinear') \n",
    "model.fit(x_train,y_train) \n",
    "y_pred=model.predict(x_test) \n",
    "print('Weights: ', model.coef_)\n",
    "print('Bias: ', model.intercept_) "
   ]
  },
  {
   "cell_type": "code",
   "execution_count": 8,
   "metadata": {},
   "outputs": [],
   "source": [
    "def predict(x, threshold):\n",
    "    pred = np.zeros((x.shape[0],))\n",
    "    for i in range(x.shape[0]):\n",
    "        pred[i] = (sigmoid(parameters['w'] @ x[i] + parameters['b']) >= threshold).astype(int)\n",
    "    return pred"
   ]
  },
  {
   "cell_type": "code",
   "execution_count": 9,
   "metadata": {},
   "outputs": [
    {
     "name": "stdout",
     "output_type": "stream",
     "text": [
      "Y value:  [0]\n",
      "My implementation:  0.0\n",
      "skLearn:  0\n",
      "\n",
      "Y value:  [0]\n",
      "My implementation:  0.0\n",
      "skLearn:  0\n",
      "\n",
      "Y value:  [0]\n",
      "My implementation:  0.0\n",
      "skLearn:  0\n",
      "\n",
      "Y value:  [1]\n",
      "My implementation:  0.0\n",
      "skLearn:  0\n",
      "\n",
      "Y value:  [1]\n",
      "My implementation:  1.0\n",
      "skLearn:  1\n",
      "\n",
      "Y value:  [0]\n",
      "My implementation:  0.0\n",
      "skLearn:  0\n",
      "\n",
      "Y value:  [0]\n",
      "My implementation:  0.0\n",
      "skLearn:  0\n",
      "\n",
      "Y value:  [1]\n",
      "My implementation:  1.0\n",
      "skLearn:  1\n",
      "\n",
      "Y value:  [1]\n",
      "My implementation:  1.0\n",
      "skLearn:  1\n",
      "\n",
      "Y value:  [1]\n",
      "My implementation:  0.0\n",
      "skLearn:  0\n",
      "\n",
      "Y value:  [0]\n",
      "My implementation:  0.0\n",
      "skLearn:  0\n",
      "\n",
      "Y value:  [0]\n",
      "My implementation:  0.0\n",
      "skLearn:  0\n",
      "\n",
      "Y value:  [0]\n",
      "My implementation:  0.0\n",
      "skLearn:  0\n",
      "\n",
      "Y value:  [0]\n",
      "My implementation:  0.0\n",
      "skLearn:  0\n",
      "\n",
      "Y value:  [0]\n",
      "My implementation:  0.0\n",
      "skLearn:  0\n",
      "\n",
      "Y value:  [0]\n",
      "My implementation:  1.0\n",
      "skLearn:  1\n",
      "\n",
      "Y value:  [0]\n",
      "My implementation:  0.0\n",
      "skLearn:  0\n",
      "\n",
      "Y value:  [1]\n",
      "My implementation:  1.0\n",
      "skLearn:  1\n",
      "\n",
      "Y value:  [0]\n",
      "My implementation:  0.0\n",
      "skLearn:  0\n",
      "\n",
      "Y value:  [0]\n",
      "My implementation:  0.0\n",
      "skLearn:  0\n",
      "\n"
     ]
    }
   ],
   "source": [
    "model_pred = model.predict(x_test)\n",
    "my_pred = predict(x_test, 0.5)\n",
    "for i in range(x_test.shape[0]):\n",
    "    print('Y value: ', y_test[i])\n",
    "    print(\"My implementation: \", my_pred[i])\n",
    "    print(\"skLearn: \", model_pred[i])\n",
    "    print()"
   ]
  }
 ],
 "metadata": {
  "kernelspec": {
   "display_name": "Python 3.10.4 64-bit",
   "language": "python",
   "name": "python3"
  },
  "language_info": {
   "name": "python",
   "version": "3.10.4"
  },
  "orig_nbformat": 4,
  "vscode": {
   "interpreter": {
    "hash": "26de051ba29f2982a8de78e945f0abaf191376122a1563185a90213a26c5da77"
   }
  }
 },
 "nbformat": 4,
 "nbformat_minor": 2
}
